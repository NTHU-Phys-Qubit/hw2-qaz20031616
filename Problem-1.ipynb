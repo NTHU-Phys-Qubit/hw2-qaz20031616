{
 "cells": [
  {
   "cell_type": "code",
   "execution_count": 1,
   "metadata": {},
   "outputs": [],
   "source": [
    "import numpy as np\n",
    "import matplotlib.pyplot as plt\n",
    "import math"
   ]
  },
  {
   "cell_type": "markdown",
   "metadata": {},
   "source": [
    "# 1D Ising model + Transfer matrix\n",
    "\n",
    "* Construct the transfer matrix at temperature $T$ with external field $B$\n",
    "* Find the eivenvalues of the transfer matrix and compare to the exact results.\n",
    "* Evaluate the partition function $Z$ at different system size $N$ and $T$, $B$. Compare to the exact results.\n",
    "* For a fixed $N$, $T$, $B$, evaluate $\\langle S_0 S_j\\rangle$ where $j=0,1,\\cdots N$. \n",
    "* Plot $\\langle S_0 S_j\\rangle$ up to $j=N/2$ and show that it decays exponentially.\n",
    "  * Please try several $N$, $T$, $B$. What is the largest $N$ you can go? What is the lowest $T$ you can go?"
   ]
  },
  {
   "cell_type": "markdown",
   "metadata": {},
   "source": [
    "## Construct the transfer matrix at temperature $T$ with external field $B$"
   ]
  },
  {
   "cell_type": "code",
   "execution_count": 2,
   "metadata": {},
   "outputs": [],
   "source": [
    "J = 1.0\n",
    "kB = 1.0"
   ]
  },
  {
   "cell_type": "code",
   "execution_count": 3,
   "metadata": {},
   "outputs": [
    {
     "name": "stdout",
     "output_type": "stream",
     "text": [
      "The transfer matrix is :\n",
      " [[1.44291687 0.9672161 ]\n",
      " [0.9672161  0.74081822]]\n"
     ]
    }
   ],
   "source": [
    "def trans_matrix(T, B):\n",
    "    beta = 1 / (kB * T)\n",
    "    T_max = np.array([[np.exp(beta * J + beta * B), np.exp(-beta * J)],\n",
    "                      [np.exp(-beta * J), np.exp(beta * J - beta * B)]]\n",
    "                    )\n",
    "    return T_max\n",
    "\n",
    "t = trans_matrix(30, 10)\n",
    "print(\"The transfer matrix is :\\n\", t)"
   ]
  },
  {
   "cell_type": "markdown",
   "metadata": {},
   "source": [
    "## Find the eivenvalues of the transfer matrix and compare to the exact results."
   ]
  },
  {
   "cell_type": "code",
   "execution_count": 4,
   "metadata": {},
   "outputs": [
    {
     "name": "stdout",
     "output_type": "stream",
     "text": [
      "Calculate ans : [0.06291535 2.12081974] \n",
      "Exact ans : [0.06291535 2.12081974]\n",
      "\n",
      "The difference are :\n",
      " [0.0000000e+00 4.4408921e-16]\n"
     ]
    }
   ],
   "source": [
    "def eigenvalues_exact(T, B):\n",
    "    return np.linalg.eigvalsh(trans_matrix(T, B))\n",
    "\n",
    "def eigenvalues(T, B):\n",
    "    beta = 1 / (kB * T)\n",
    "    lamda1 = np.exp(beta * J) * (np.cosh(beta * B) - np.sqrt((np.sinh(beta * B)**2) + np.exp(-4 * beta * J)))\n",
    "    lamda2 = np.exp(beta * J) * (np.cosh(beta * B) + np.sqrt((np.sinh(beta * B)**2) + np.exp(-4 * beta * J)))\n",
    "    return np.array([lamda1,lamda2])\n",
    " \n",
    "print(\"Calculate ans :\", eigenvalues(30, 10), \"\\nExact ans :\", eigenvalues_exact(30, 10))\n",
    "print(\"\\nThe difference are :\\n\", eigenvalues(30, 10) - eigenvalues_exact(30, 10))"
   ]
  },
  {
   "cell_type": "markdown",
   "metadata": {},
   "source": [
    "## Evaluate the partition function $Z$ at different system size $N$ and $T$, $B$. Compare to the exact results."
   ]
  },
  {
   "cell_type": "code",
   "execution_count": 5,
   "metadata": {},
   "outputs": [
    {
     "name": "stdout",
     "output_type": "stream",
     "text": [
      "N = 5\n",
      "Calculate ans : 222.78155675147605 \n",
      "Exact ans : 222.80880548845167\n",
      "\n",
      "N = 50\n",
      "Calculate ans : 3.0115657115962652e+23 \n",
      "Exact ans : 3.0115657115962756e+23\n"
     ]
    }
   ],
   "source": [
    "def partition_exact(T, B, N):\n",
    "    a = trans_matrix(T, B)\n",
    "    b = np.copy(a)\n",
    "    for i in range(N - 1):\n",
    "        a = np.dot(a, b)\n",
    "    return np.trace(a)\n",
    "\n",
    "def partition(T, B, N):\n",
    "    beta = 1 / (kB * T)\n",
    "    lamda_ = np.exp(beta * J) * (np.cosh(beta * B) + np.sqrt((np.sinh(beta * B)**2) + np.exp(-4 * beta * J)))\n",
    "    return lamda_**N\n",
    "\n",
    "print(\"N = 5\")\n",
    "print(\"Calculate ans :\", partition(3, 2, 5), \"\\nExact ans :\", partition_exact(3, 2, 5))\n",
    "print(\"\\nN = 50\")\n",
    "print(\"Calculate ans :\", partition(3, 2, 50), \"\\nExact ans :\", partition_exact(3, 2, 50))\n"
   ]
  },
  {
   "cell_type": "markdown",
   "metadata": {},
   "source": [
    "## For a fixed $N$, $T$, $B$, evaluate $\\langle S_0 S_j\\rangle$ where $j=0,1,\\cdots N$. "
   ]
  },
  {
   "cell_type": "code",
   "execution_count": 6,
   "metadata": {},
   "outputs": [
    {
     "data": {
      "text/plain": [
       "[<matplotlib.lines.Line2D at 0x11c601ad0>]"
      ]
     },
     "execution_count": 6,
     "metadata": {},
     "output_type": "execute_result"
    },
    {
     "data": {
      "image/png": "[encoded data removed]",
      "text/plain": [
       "<Figure size 432x288 with 1 Axes>"
      ]
     },
     "metadata": {
      "needs_background": "light"
     },
     "output_type": "display_data"
    }
   ],
   "source": [
    "def cor(T, B, N):\n",
    "    ans = np.array([0.0] * (N + 1))\n",
    "    for j in range(N + 1):\n",
    "        ans[j] = np.tanh(B/T)**j\n",
    "    return ans\n",
    "\n",
    "#ans[j] means ⟨𝑆0𝑆𝑗⟩ where 𝑗 = 0,1,⋯𝑁.\n",
    "ans_ = cor(2, 2, 10)\n",
    "plt.plot(ans_, 'o')"
   ]
  },
  {
   "cell_type": "markdown",
   "metadata": {},
   "source": [
    "## Plot $\\langle S_0 S_j\\rangle$ up to $j=N/2$ and show that it decays exponentially."
   ]
  },
  {
   "cell_type": "code",
   "execution_count": 7,
   "metadata": {},
   "outputs": [],
   "source": [
    "def cor_plot(T, B, N):\n",
    "    upper = int(N/2)\n",
    "    ans = np.array([0.0] * upper)\n",
    "    for j in range(upper):\n",
    "        ans[j] = np.tanh(B/T)**j\n",
    "    return ans"
   ]
  },
  {
   "cell_type": "code",
   "execution_count": 8,
   "metadata": {},
   "outputs": [
    {
     "data": {
      "text/plain": [
       "[<matplotlib.lines.Line2D at 0x11c75f1d0>]"
      ]
     },
     "execution_count": 8,
     "metadata": {},
     "output_type": "execute_result"
    },
    {
     "data": {
      "image/png": "[encoded data removed]",
      "text/plain": [
       "<Figure size 432x288 with 1 Axes>"
      ]
     },
     "metadata": {
      "needs_background": "light"
     },
     "output_type": "display_data"
    }
   ],
   "source": [
    "ans_ = cor_plot(1, 2, 100)\n",
    "plt.title(\"T = 1,N = 100\")\n",
    "plt.plot(ans_, 'o')"
   ]
  },
  {
   "cell_type": "code",
   "execution_count": 9,
   "metadata": {},
   "outputs": [
    {
     "data": {
      "text/plain": [
       "[<matplotlib.lines.Line2D at 0x11c661950>]"
      ]
     },
     "execution_count": 9,
     "metadata": {},
     "output_type": "execute_result"
    },
    {
     "data": {
      "image/png": "[encoded data removed]",
      "text/plain": [
       "<Figure size 432x288 with 1 Axes>"
      ]
     },
     "metadata": {
      "needs_background": "light"
     },
     "output_type": "display_data"
    }
   ],
   "source": [
    "ans_ = cor_plot(1, 2, 200)\n",
    "plt.title(\"T = 1,N = 200\")\n",
    "plt.plot(ans_, 'o')"
   ]
  },
  {
   "cell_type": "code",
   "execution_count": 10,
   "metadata": {},
   "outputs": [
    {
     "data": {
      "text/plain": [
       "[<matplotlib.lines.Line2D at 0x11c878cd0>]"
      ]
     },
     "execution_count": 10,
     "metadata": {},
     "output_type": "execute_result"
    },
    {
     "data": {
      "image/png": "[encoded data removed]",
      "text/plain": [
       "<Figure size 432x288 with 1 Axes>"
      ]
     },
     "metadata": {
      "needs_background": "light"
     },
     "output_type": "display_data"
    }
   ],
   "source": [
    "ans_ = cor_plot(1, 2, 20000)\n",
    "plt.title(\"T = 1,N = 20000\")\n",
    "plt.plot(ans_, 'o')"
   ]
  },
  {
   "cell_type": "markdown",
   "metadata": {},
   "source": [
    "### The lowest T is 1, The largest N may be very large, i can't confirm the exact number."
   ]
  },
  {
   "cell_type": "code",
   "execution_count": null,
   "metadata": {},
   "outputs": [],
   "source": []
  }
 ],
 "metadata": {
  "kernelspec": {
   "display_name": "Python 3",
   "language": "python",
   "name": "python3"
  },
  "language_info": {
   "codemirror_mode": {
    "name": "ipython",
    "version": 3
   },
   "file_extension": ".py",
   "mimetype": "text/x-python",
   "name": "python",
   "nbconvert_exporter": "python",
   "pygments_lexer": "ipython3",
   "version": "3.7.6"
  }
 },
 "nbformat": 4,
 "nbformat_minor": 4
}
